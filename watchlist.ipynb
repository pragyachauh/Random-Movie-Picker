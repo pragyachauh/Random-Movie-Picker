{
 "cells": [
  {
   "cell_type": "code",
   "execution_count": 103,
   "metadata": {},
   "outputs": [
    {
     "name": "stdout",
     "output_type": "stream",
     "text": [
      "Movie: Red River (1948)\n"
     ]
    }
   ],
   "source": [
    "import math\n",
    "import pandas as pd\n",
    "from random import randrange\n",
    "\n",
    "# File to read data from\n",
    "file_loc = \"watchlist.xlsx\"\n",
    "\n",
    "# Read Excel file 'file_loc' with 'openpyxl', use cols 'Name' & 'Year' into data frame\n",
    "df = pd.read_excel(file_loc, index_col=None, na_values=['NA'], usecols=[\"Name\", \"Year\"], engine='openpyxl')\n",
    "\n",
    "count = math.floor(df.size/2)\n",
    "random = randrange(count)\n",
    "\n",
    "name_column = df['Name']\n",
    "year_column = df['Year']\n",
    "\n",
    "nameReturn = name_column.iloc[random]\n",
    "yearReturn = year_column.iloc[random]\n",
    "\n",
    "# Print movie name and date\n",
    "print(\"Movie: \" + str(nameReturn) + \" (\" + str(yearReturn) + \")\")\n",
    "\n"
   ]
  }
 ],
 "metadata": {
  "kernelspec": {
   "display_name": "Python 3.12.3 64-bit",
   "language": "python",
   "name": "python3"
  },
  "language_info": {
   "codemirror_mode": {
    "name": "ipython",
    "version": 3
   },
   "file_extension": ".py",
   "mimetype": "text/x-python",
   "name": "python",
   "nbconvert_exporter": "python",
   "pygments_lexer": "ipython3",
   "version": "3.12.3"
  },
  "orig_nbformat": 4,
  "vscode": {
   "interpreter": {
    "hash": "3fcbd7240ee8f908d933dc7f71e8c42a1a91163b70ede8dcff5146d4087436c7"
   }
  }
 },
 "nbformat": 4,
 "nbformat_minor": 2
}
